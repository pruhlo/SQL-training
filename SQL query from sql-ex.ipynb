{
 "cells": [
  {
   "cell_type": "markdown",
   "id": "8b842b69",
   "metadata": {},
   "source": [
    "### Завдання 4: \n",
    "\n",
    "Зареєструйтеся на сайті  http://www.sql-ex.ru/\n",
    "\n",
    "Виконайте завдання із блоку SELECT; з 1 по 30 завдання\n",
    "\n",
    "Код запитів вставляйте сюди\n"
   ]
  },
  {
   "cell_type": "markdown",
   "id": "23cb1f24",
   "metadata": {},
   "source": [
    "Схема БД складається з чотирьох таблиць:\n",
    "\n",
    "**Product**    (`maker`, `model`, `type`)  <br>\n",
    "**PC**    (`code`, `model`, `speed`, `ram`, `hd`, `cd`, `price`)  <br>\n",
    "**Laptop**    (`code`, `model`, `speed`, `ram`, `hd`, `price`, `screen`)  <br>\n",
    "**Printer**    (`code`, `model`, `color`, `type`, `price`)  <br>\n",
    "\n",
    "Таблиця **Product** представляє виробника (`maker`), номер моделі (`model`) та тип (**PC** - ПК, **Laptop** - ноутбук або **Printer** - принтер). Передбачається, що номери моделей у таблиці **Product** є унікальними для всіх виробників і типів продуктів.  \n",
    "\n",
    "  У таблиці **PC** кожного ПК, однозначно визначається унікальним кодом – `code`, вказано модель – `model` (_зовнішній ключ_ до таблиці **Product**), швидкість - `speed` (процесора в мегагерцах), обсяг пам'яті - `ram` (у мегабайтах), розмір диска - `hd` (в гігабайтах), швидкість зчитувального пристрою - `cd` (наприклад, '4x') та ціна - `price` (у доларах).  \n",
    "\n",
    "  Таблиця **Laptop** аналогічна таблиці **РС** крім того, що замість швидкості CD містить розмір екрана -`screen` (в дюймах).  \n",
    "\n",
    "  У таблиці **Printer** для кожної моделі принтера вказується, чи він кольоровий - `color` ('y', якщо кольоровий), тип принтера - `type` (лазерний - 'Laser', струменевий - 'Jet' або матричний - 'Matrix') і ціна - `price`.\n",
    "  \n",
    "  ## Порядок ВИКОНАННЯ SQL запиту\n",
    "```MySQL\n",
    "FROM        WHERE        GROUP BY        HAVING        SELECT        ORDER BY\n",
    "```\n",
    "![image.png](attachment:image.png)"
   ]
  },
  {
   "cell_type": "markdown",
   "id": "a9fb22a6",
   "metadata": {},
   "source": [
    "##### 1 Знайдіть номер моделі, швидкість та розмір жорсткого диска для всіх ПК вартістю менше 500 дол. Вивести: model, speed та hd\n",
    "```MySQL\n",
    "SELECT model, speed, hd\n",
    "FROM PC\n",
    "WHERE price < 500\n",
    "```"
   ]
  },
  {
   "cell_type": "markdown",
   "id": "24b1d798",
   "metadata": {},
   "source": [
    "##### 2 Знайдіть виробників принтерів. Вивести: maker\n",
    "```MySQL\n",
    "SELECT DISTINCT maker\n",
    "FROM Product\n",
    "WHERE type='Printer'\n",
    "```"
   ]
  },
  {
   "cell_type": "markdown",
   "id": "1a585443",
   "metadata": {},
   "source": [
    "##### 3 Знайдіть номер моделі, обсяг пам'яті та розміри екранів ПК-блокнотів, ціна яких перевищує 1000 дол.\n",
    "```MySQL\n",
    "SELECT model, ram, screen\n",
    "FROM Laptop\n",
    "WHERE price > 1000\n",
    "\n",
    "```"
   ]
  },
  {
   "cell_type": "markdown",
   "id": "55331fd2",
   "metadata": {},
   "source": [
    "#####  4 Знайдіть усі записи таблиці Printer для кольорових принтерів.\n",
    "```MySQL\n",
    "SELECT *\n",
    "FROM Printer\n",
    "WHERE color='y'\n",
    "\n",
    "```"
   ]
  },
  {
   "cell_type": "markdown",
   "id": "92b54441",
   "metadata": {},
   "source": [
    "##### 5 Знайдіть номер моделі, швидкість та розмір жорсткого диска ПК, що мають 12x або 24x CD та ціну менше 600 дол.\n",
    "```MySQL\n",
    "SELECT model, speed, hd\n",
    "FROM PC\n",
    "WHERE (cd in ('12x','24x')) and (price < 600)\n",
    "\n",
    "```"
   ]
  },
  {
   "cell_type": "markdown",
   "id": "7ca374a3",
   "metadata": {},
   "source": [
    "##### 6 Для кожного виробника, що випускає ноутбуки з об'ємом жорсткого диска щонайменше 10 Гбайт, знайти швидкості таких ноутбуків. Вивести: виробника, швидкість.\n",
    "```MySQL\n",
    "SELECT DISTINCT maker, speed\n",
    "FROM Product JOIN Laptop ON Laptop.model = Product.model\n",
    "WHERE (hd >=10)\n",
    "\n",
    "```\n",
    "\n",
    "```MySQL\n",
    "SELECT DISTINCT Product.maker, Laptop.speed\n",
    "FROM Product, Laptop \n",
    "WHERE Product.model = Laptop.model \n",
    " AND Laptop.hd >= 10\n",
    "```"
   ]
  },
  {
   "cell_type": "markdown",
   "id": "395b6d7c",
   "metadata": {},
   "source": [
    "#####  7 Знайдіть номери моделей та ціни всіх наявних у продажу продуктів (будь-якого типу) виробника B (латинська літера).\n",
    "[link на пояcнення](http://www.sql-tutorial.ru/ru/book_sql_tips_and_solutions_7.html)\n",
    "# НЕ проходить перевірку\n",
    "```MySQL\n",
    "SELECT DISTINCT Product.model, \n",
    " ISNULL(PC.price, 0)+ISNULL(Laptop.price, 0)+ISNULL(Printer.price, 0) AS price\n",
    "FROM (((Product LEFT JOIN  PC ON Product.model = PC.model) LEFT JOIN \n",
    " Laptop ON Product.model = Laptop.model) LEFT JOIN \n",
    " Printer ON Product.model = Printer.model)\n",
    "WHERE Product.maker = 'B'\n",
    "\n",
    "```"
   ]
  },
  {
   "cell_type": "markdown",
   "id": "2bca3b8f",
   "metadata": {},
   "source": [
    "##### \n",
    "```MySQL\n",
    "SELECT DISTINCT Product.model, COALESCE(PC.price, Laptop.price, Printer.price, 0) AS price\n",
    "FROM (\n",
    "((Product LEFT JOIN  PC ON Product.model = PC.model) LEFT JOIN \n",
    "                 Laptop ON Product.model = Laptop.model) LEFT JOIN \n",
    "                Printer ON Product.model = Printer.model)\n",
    "WHERE Product.maker = 'B'\n",
    "\n",
    "```"
   ]
  },
  {
   "cell_type": "markdown",
   "id": "c2c10e1f",
   "metadata": {},
   "source": [
    "##### 8 Знайдіть виробника, що випускає ПК, але не ноутбуки.\n",
    "```MySQL\n",
    "SELECT DISTINCT maker\n",
    "FROM Product\n",
    "WHERE type = 'PC' AND \n",
    "      maker NOT IN (SELECT maker \n",
    "                    FROM Product \n",
    "                    WHERE type = 'Laptop')\n",
    "\n",
    "```"
   ]
  },
  {
   "cell_type": "markdown",
   "id": "dbd9987f",
   "metadata": {},
   "source": [
    "#####  9 Знайдіть виробників ПК із процесором не менше 450 МГц. Вивести: Maker\n",
    "# не проходить 2й тест\n",
    "```MySQL\n",
    "SELECT DISTINCT maker\n",
    "FROM Product INNER JOIN PC ON Product.model = PC.model\n",
    "WHERE speed > 450 AND type='PC'\n",
    "\n",
    "```"
   ]
  },
  {
   "cell_type": "markdown",
   "id": "27609ae8",
   "metadata": {},
   "source": [
    "##### 10 Знайдіть моделі принтерів, що мають найвищу ціну. Вивести: model, price\n",
    "```MySQL\n",
    "SELECT model, price\n",
    "FROM Printer\n",
    "WHERE price = (SELECT MAX(price) FROM Printer)\n",
    "\n",
    "```"
   ]
  },
  {
   "cell_type": "markdown",
   "id": "919ad359",
   "metadata": {},
   "source": [
    "##### 11 Знайдіть середню швидкість ПК.\n",
    "```MySQL\n",
    "SELECT AVG(speed) as Avg_speed\n",
    "FROM PC\n",
    "```"
   ]
  },
  {
   "cell_type": "markdown",
   "id": "7cdb13dd",
   "metadata": {},
   "source": [
    "##### 12 Знайдіть середню швидкість ноутбуків, ціна яких перевищує 1000 дол.\n",
    "```MySQL\n",
    "SELECT AVG(speed) AS Avg_speed  \n",
    "FROM Laptop \n",
    "WHERE price > 1000\n",
    "\n",
    "```"
   ]
  },
  {
   "cell_type": "markdown",
   "id": "923f98b7",
   "metadata": {},
   "source": [
    "##### 13 Найдите среднюю скорость ПК, выпущенных производителем A.\n",
    "```MySQL\n",
    "SELECT AVG(speed) AS Avg_speed\n",
    "FROM Product JOIN PC ON Product.model=PC.model\n",
    "WHERE maker = 'A'\n",
    "```\n",
    "```MySQL\n",
    "FROM        WHERE        GROUP BY        HAVING        SELECT        ORDER BY\n",
    "```"
   ]
  },
  {
   "cell_type": "markdown",
   "id": "04183223",
   "metadata": {},
   "source": [
    "#### Розглядається БД кораблів, які брали участь у Другій світовій війні. \n",
    "\n",
    "Є такі відносини:  \n",
    "**Classes** (`class`, `type`, `country`, `numGuns`, `bore`, `displacement`)<br>\n",
    "**Ships** (`name`, `class`, `launched`)<br>\n",
    "**Battles** (`name`, `date`)<br>\n",
    "**Outcomes** (`ship`, `battle`, `result`)<br>\n",
    "Кораблі в «класах» побудовані по тому самому проекту, і класу присвоюється або ім'я першого корабля, побудованого за цим проектом, або назві класу дається ім'я проекту, яке не збігається з жодним з кораблів у БД. Корабель, що дав назву класу, називається головним.\n",
    "\n",
    "Відношення **Classes** містить ім'я класу, тип ('bb' для бойового (лінійного) корабля або 'bc' для бойового крейсера), країну, в якій побудований корабель, кількість головних знарядь, калібр гармат (діаметр стовбура гармати в дюймах) та водотоннажність (вага в тоннах). \n",
    "\n",
    "Щодо **Ships** записані назву корабля, ім'я його класу та рік спуску на воду. \n",
    "\n",
    "У відношенні **Battles** включені назва та дата битви, в якій брали участь кораблі, \n",
    "\n",
    "а щодо **Outcomes** – результат участі даного корабля у битві (потоплений-'sunk', пошкоджений – 'damaged' або неушкоджений – 'OK').\n",
    ">Зауваження. \n",
    ">1) У відношенні Outcomes можуть входити кораблі, які відсутні щодо Ships.   \n",
    ">2) Потоплений корабель у наступних битвах участі не бере."
   ]
  },
  {
   "cell_type": "markdown",
   "id": "e6096e14",
   "metadata": {},
   "source": [
    "#####  14 Знайдіть клас, ім'я та країну для кораблів із таблиці Ships, що мають не менше 10 гармат.\n",
    "```MySQL\n",
    "SELECT Ships.class, name, country\n",
    "FROM Ships JOIN Classes ON Ships.class = Classes.class\n",
    "WHERE numGuns>=10;\n",
    "```"
   ]
  },
  {
   "cell_type": "markdown",
   "id": "a74e4036",
   "metadata": {},
   "source": [
    "##### 15 Знайдіть розміри жорстких дисків, що збігаються у двох і більше ПК. Вивести: HD\n",
    "```MySQL\n",
    "SELECT hd \n",
    "FROM PC \n",
    "GROUP BY hd \n",
    "HAVING COUNT(hd)>=2\n",
    "```"
   ]
  },
  {
   "cell_type": "markdown",
   "id": "6f8150a4",
   "metadata": {},
   "source": [
    "##### 16 Знайдіть пару моделей PC, що мають однакову швидкість і RAM. У результаті кожна пара вказується лише один раз, тобто (i,j), але не (j,i), порядок виведення: модель з більшим номером, модель з меншим номером, швидкість та RAM.\n",
    "# СПИСАВ РІШЕННЯ [solve](http://www.sql-tutorial.ru/ru/book_sql_tips_and_solutions_16.html)\n",
    "```MySQL\n",
    "SELECT MAX(model1), MIN(model2), MAX(speed), MAX(ram) \n",
    "FROM (SELECT pc1.model AS model1, pc2.model AS model2, pc1.speed, pc2.ram, \n",
    "             CASE WHEN CAST(pc1.model AS NUMERIC(6,2)) > \n",
    "                       CAST(pc2.model AS NUMERIC(6,2)) \n",
    "                  THEN pc1.model+pc2.model  \n",
    "                  ELSE pc2.model+pc1.model  \n",
    "             END AS sm \n",
    "      FROM PC pc1, PC pc2 \n",
    "      WHERE pc1.speed = pc2.speed AND \n",
    "            pc1.ram = pc2.ram AND \n",
    "            pc1.model <> pc2.model\n",
    "      ) a \n",
    "GROUP BY a.sm\n",
    "```\n"
   ]
  },
  {
   "cell_type": "markdown",
   "id": "ea4fae2c",
   "metadata": {},
   "source": [
    "##### 17 Знайдіть моделі ноутбуків, швидкість яких менша за швидкість кожного з ПК. Вивести: type, model, speed\n",
    "```MySQL\n",
    "SELECT DISTINCT type, Laptop.model, speed\n",
    "FROM Laptop, Product\n",
    "WHERE Product.model = Laptop.model AND\n",
    "      Laptop.speed < (SELECT MIN(speed) FROM PC)\n",
    "```"
   ]
  },
  {
   "cell_type": "markdown",
   "id": "2ca79fd4",
   "metadata": {},
   "source": [
    "##### 18 Знайдіть виробників найдешевших кольорових принтерів. Вивести: maker, price\n",
    "# не проходить 2й тест\n",
    "http://www.sql-tutorial.ru/ru/book_sql_tips_and_solutions_18.html\n",
    "```MySQL\n",
    "select maker, price\n",
    "from printer, product\n",
    "WHERE product.model = printer.model and price = (select min(price) from printer where color='y') and color='y'\n",
    "```"
   ]
  },
  {
   "cell_type": "markdown",
   "id": "f1f44660",
   "metadata": {},
   "source": [
    "##### 19 Для кожного виробника, що має моделі в таблиці Laptop, знайдіть середній розмір екрану ноутбуків, що випускаються ним.\n",
    "Вивести: maker, середній розмір екрану.\n",
    "```MySQL\n",
    "SELECT maker, avg(screen)\n",
    "FROM laptop, product\n",
    "WHERE laptop.model=product.model\n",
    "GROUP BY maker\n",
    "```"
   ]
  },
  {
   "cell_type": "markdown",
   "id": "5d9b30aa",
   "metadata": {},
   "source": [
    "##### \n",
    "```MySQL\n",
    "\n",
    "\n",
    "```\n",
    "```MySQL\n",
    "FROM        WHERE        GROUP BY        HAVING        SELECT        ORDER BY\n",
    "```"
   ]
  },
  {
   "cell_type": "markdown",
   "id": "c40169c1",
   "metadata": {},
   "source": [
    "#####  20 Знайдіть виробників, що випускають щонайменше три різні моделі ПК. Вивести: Maker, кількість моделей ПК.\n",
    "```MySQL\n",
    "SELECT maker, count(model) as Count_Model\n",
    "FROM Product\n",
    "WHERE type='PC'\n",
    "GROUP BY maker\n",
    "HAVING count(model)>=3\n",
    "```"
   ]
  },
  {
   "cell_type": "markdown",
   "id": "39423c13",
   "metadata": {},
   "source": [
    "##### 21 Знайдіть максимальну ціну ПК, що випускаються кожним виробником, який має моделі в таблиці PC.\n",
    "Вивести: maker, максимальна ціна.\n",
    "```MySQL\n",
    "SELECT maker, max(price)\n",
    "FROM Product, PC\n",
    "WHERE type='PC' and PC.model=Product.model\n",
    "GROUP BY maker\n",
    "```"
   ]
  },
  {
   "cell_type": "markdown",
   "id": "7fe095bc",
   "metadata": {},
   "source": [
    "#####  22 Для кожного значення швидкості ПК, що перевищує 600 МГц, визначте середню ціну ПК із такою самою швидкістю. Вивести: speed, середня ціна.\n",
    "```MySQL\n",
    "SELECT speed, AVG(price)\n",
    "FROM PC\n",
    "WHERE speed > 600\n",
    "GROUP BY speed\n",
    "```"
   ]
  },
  {
   "cell_type": "markdown",
   "id": "cb9fb8b7",
   "metadata": {},
   "source": [
    "FROM (\n",
    "((Product LEFT JOIN  PC ON Product.model = PC.model) LEFT JOIN \n",
    "                 Laptop ON Product.model = Laptop.model) LEFT JOIN \n",
    "                Printer ON Product.model = Printer.model)#####  23 Знайдіть виробників, які виробляли б як ПК зі швидкістю щонайменше 750 МГц, і ноутбуки зі швидкістю щонайменше 750 МГц.\n",
    "Вивести: Maker\n",
    "http://www.sql-tutorial.ru/ru/book_sql_tips_and_solutions_23.html\n",
    "```MySQL\n",
    "SELECT maker\n",
    "FROM (\n",
    "((Product LEFT JOIN  PC ON Product.model = PC.model) LEFT JOIN \n",
    "                 Laptop ON Product.model = Laptop.model) LEFT JOIN \n",
    "                Printer ON Product.model = Printer.model)\n",
    "WHERE PC.speed>=750 and Laptop.speed >=750\n",
    "\n",
    "```\n",
    "```MySQL\n",
    "FROM        WHERE        GROUP BY        HAVING        SELECT        ORDER BY\n",
    "```"
   ]
  },
  {
   "cell_type": "markdown",
   "id": "f4bb604e",
   "metadata": {},
   "source": [
    "##### 23 Знайдіть виробників, які виробляли б як ПК зі швидкістю щонайменше 750 МГц, і ноутбуки зі швидкістю щонайменше 750 МГц.\n",
    "Вивести: Maker\n",
    "# Не виходить\n",
    "```MySQL\n",
    "SELECT maker, MAX(COALESCE(PC.speed, 0)) AS PC_speed, \n",
    "                    MAX(COALESCE(Laptop.speed, 0)) AS Laptop_speed\n",
    "      FROM ((Product LEFT JOIN  PC ON Product.model = PC.model) LEFT JOIN \n",
    "                 Laptop ON Product.model = Laptop.model)\n",
    "GROUP BY maker\n",
    "\n",
    "\n",
    "```\n"
   ]
  },
  {
   "cell_type": "markdown",
   "id": "676f2f2c",
   "metadata": {},
   "source": [
    "##### 24 Перерахуйте номери моделей будь-яких типів, що мають найвищу ціну по всій наявній у базі даних продукції.\n",
    "```MySQL\n",
    "WITH pivot_table AS (SELECT model, price\n",
    "                     FROM (SELECT product.model as model, ISNULL(PC.price, 0)+ISNULL(Laptop.price,\n",
    "                                                             0)+ISNULL(Printer.price, 0) AS price\n",
    "                           FROM (((Product LEFT JOIN PC ON Product.model = PC.model) LEFT JOIN \n",
    "                                     Laptop ON Product.model = Laptop.model) LEFT JOIN \n",
    "                                     Printer ON Product.model = Printer.model)) as tables)\n",
    "SELECT model\n",
    "FROM pivot_table\n",
    "WHERE price = (SELECT MAX(price) FROM pivot_table)\n",
    "```"
   ]
  },
  {
   "cell_type": "markdown",
   "id": "a33e1d3f",
   "metadata": {},
   "source": [
    "##### 25 Знайдіть виробників принтерів, які виробляють ПК з найменшим об'ємом RAM і найшвидшим процесором серед усіх ПК, що мають найменший об'єм RAM. Вивести: Maker\n",
    "```MySQL\n",
    "WITH pivot_table AS\n",
    "(SELECT Product.maker, ram, speed, Product.type\n",
    "FROM ((Product LEFT JOIN PC ON Product.model = PC.model) LEFT JOIN Printer ON Product.model = Printer.model))\n",
    "\n",
    "SELECT DISTINCT maker\n",
    "FROM pivot_table\n",
    "WHERE speed = (SELECT MAX(speed) FROM pivot_table WHERE ram = (SELECT min(ram) FROM pivot_table)) and maker IN (SELECT maker FROM pivot_table WHERE type = 'Printer') and ram = (SELECT min(ram) FROM pivot_table)\n",
    "```"
   ]
  },
  {
   "cell_type": "markdown",
   "id": "ed103122",
   "metadata": {},
   "source": [
    "##### 26 Знайдіть середню ціну ПК та ПК-блокнотів, випущених виробником A (латинська літера). Вивести: одна загальна середня ціна.\n",
    "```MySQL\n",
    "SELECT AVG(price)\n",
    "FROM (SELECT price, model, speed, ram, hd\n",
    "      FROM PC \n",
    "      WHERE model IN (SELECT model FROM Product WHERE maker='A' AND type ='PC')\n",
    "      UNION\n",
    "      SELECT price, model, speed, ram, hd\n",
    "      FROM Laptop\n",
    "      WHERE model IN (SELECT model FROM Product WHERE maker='A' AND type ='Laptop')) as p\n",
    "\n",
    "```\n",
    "```MySQL\n",
    "FROM        WHERE        GROUP BY        HAVING        SELECT        ORDER BY\n",
    "```"
   ]
  },
  {
   "cell_type": "markdown",
   "id": "b5dfc216",
   "metadata": {},
   "source": [
    "##### 27 Знайдіть середній розмір диска ПК кожного з виробників, які випускають і принтери. Вивести: maker, середній розмір HD.\n",
    "# не проходить 2й тест\n",
    "```MySQL\n",
    "SELECT maker, AVG(hd)\n",
    "FROM (SELECT maker, hd FROM PC JOIN Product ON  PC.model=Product.model WHERE maker IN (SELECT maker FROM Printer JOIN Product ON Printer.model=Product.model)) as t\n",
    "GROUP BY maker\n",
    "\n",
    "```\n",
    "```MySQL\n",
    "FROM        WHERE        GROUP BY        HAVING        SELECT        ORDER BY\n",
    "```"
   ]
  },
  {
   "cell_type": "markdown",
   "id": "a470e83f",
   "metadata": {},
   "source": [
    "##### 28  Використовуючи таблицю Product, визначити кількість виробників, що випускають за однією моделлю.\n",
    "```MySQL\n",
    "SELECT COUNT(*) as count \n",
    "FROM (SELECT count(model) as cnt\n",
    "FROM Product\n",
    "GROUP BY maker\n",
    "HAVING count(model) = 1) as t\n",
    "WHERE cnt=1\n",
    "```\n"
   ]
  },
  {
   "cell_type": "markdown",
   "id": "54ac7314",
   "metadata": {},
   "source": [
    "##### 29 У припущенні, що прихід та витрата грошей на кожному пункті прийому фіксується не частіше ніж один раз на день [тобто. первинний ключ (пункт, дата)], написати запит із вихідними даними (пункт, дата, прихід, витрата). Використовувати таблиці Income_o та Outcome_o.\n",
    "```MySQL\n",
    "\n",
    "\n",
    "```\n",
    "```MySQL\n",
    "FROM        WHERE        GROUP BY        HAVING        SELECT        ORDER BY\n",
    "```"
   ]
  },
  {
   "cell_type": "markdown",
   "id": "b2893f4e",
   "metadata": {},
   "source": [
    "##### 30 В предположении, что приход и расход денег на каждом пункте приема фиксируется произвольное число раз (первичным ключом в таблицах является столбец code), требуется получить таблицу, в которой каждому пункту за каждую дату выполнения операций будет соответствовать одна строка.\n",
    "Вывод: point, date, суммарный расход пункта за день (out), суммарный приход пункта за день (inc). Отсутствующие значения считать неопределенными (NULL).\n",
    "```MySQL\n",
    "\n",
    "\n",
    "```\n",
    "```MySQL\n",
    "FROM        WHERE        GROUP BY        HAVING        SELECT        ORDER BY\n",
    "```"
   ]
  },
  {
   "cell_type": "markdown",
   "id": "5d878efe",
   "metadata": {},
   "source": [
    "Коротка інформація про базу даних \"Фірма вторсировини\":\n",
    "\n",
    "Фірма має кілька пунктів прийому вторинної сировини. Кожен пункт отримує гроші для їх видачі здавачам вторинної сировини. Відомості про отримання грошей на пунктах прийому записуються до таблиці:\n",
    "Income_o(point, date, inc)\n",
    "Первинним ключем є (point, date). У цьому стовпець date записується лише дата (без часу), тобто. Приймання грошей (inc) на кожному пункті проводиться не частіше одного разу на день. Відомості про видачу грошей здавачам вторинної сировини записуються в таблицю:\n",
    "Outcome_o(point, date, out)\n",
    "У цій таблиці також первинний ключ (point, date) гарантує звітність кожного пункту про видані гроші (out) не частіше ніж один раз на день.\n",
    "У випадку, коли прихід та витрата грошей може фіксуватися кілька разів на день, використовується інша схема з таблицями, що мають первинний ключ code:\n",
    "Income(code, point, date, inc)\n",
    "Outcome(code, point, date, out)\n",
    "Тут також значення стовпця date не містять часу."
   ]
  },
  {
   "cell_type": "code",
   "execution_count": null,
   "id": "11001ffc",
   "metadata": {},
   "outputs": [],
   "source": []
  },
  {
   "cell_type": "markdown",
   "id": "fff1808f",
   "metadata": {},
   "source": [
    "##### \n",
    "```MySQL\n",
    "\n",
    "\n",
    "```"
   ]
  },
  {
   "cell_type": "markdown",
   "id": "429f3903",
   "metadata": {},
   "source": [
    "##### \n",
    "```MySQL\n",
    "\n",
    "\n",
    "```"
   ]
  },
  {
   "cell_type": "markdown",
   "id": "d3ce27b0",
   "metadata": {},
   "source": [
    "##### \n",
    "```MySQL\n",
    "\n",
    "\n",
    "```"
   ]
  },
  {
   "cell_type": "markdown",
   "id": "4aeaee26",
   "metadata": {},
   "source": [
    "##### \n",
    "```MySQL\n",
    "\n",
    "\n",
    "```"
   ]
  },
  {
   "cell_type": "markdown",
   "id": "8195750b",
   "metadata": {},
   "source": [
    "##### \n",
    "```MySQL\n",
    "\n",
    "\n",
    "```"
   ]
  },
  {
   "cell_type": "markdown",
   "id": "c2ed057a",
   "metadata": {},
   "source": [
    "##### \n",
    "```MySQL\n",
    "\n",
    "\n",
    "```"
   ]
  }
 ],
 "metadata": {
  "kernelspec": {
   "display_name": "Python 3 (ipykernel)",
   "language": "python",
   "name": "python3"
  },
  "language_info": {
   "codemirror_mode": {
    "name": "ipython",
    "version": 3
   },
   "file_extension": ".py",
   "mimetype": "text/x-python",
   "name": "python",
   "nbconvert_exporter": "python",
   "pygments_lexer": "ipython3",
   "version": "3.10.5"
  }
 },
 "nbformat": 4,
 "nbformat_minor": 5
}
