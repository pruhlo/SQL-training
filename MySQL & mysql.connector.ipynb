{
 "cells": [
  {
   "cell_type": "code",
   "execution_count": null,
   "id": "9d7c1e86",
   "metadata": {},
   "outputs": [],
   "source": []
  },
  {
   "cell_type": "markdown",
   "id": "adbcff72",
   "metadata": {},
   "source": [
    "1. Завантажити та встановити [MySQL installer](https://dev.mysql.com/downloads/installer/)\n",
    "1.1 З [MySQL installer][link1] установити MySQL server та MySQL workbench\n",
    "1.2 Додати до [PATH][link2]\n",
    "1.3 Через `cmd` [ввести][link3] `mysql --user=root --password=Зкгпдщ_1059863`\n",
    "\n",
    "2. https://proglib.io/p/python-i-mysql-prakticheskoe-vvedenie-2021-01-06\n",
    "\n",
    "[link1]: https://youtu.be/NJdZYX0zdVM\n",
    "[link2]: https://youtu.be/eq-e_n7lm2M\n",
    "[link3]: https://stackoverflow.com/questions/23950722/how-to-overcome-error-1045-28000-access-denied-for-user-odbclocalhost-u"
   ]
  },
  {
   "cell_type": "code",
   "execution_count": 3,
   "id": "cb5a4e9d",
   "metadata": {},
   "outputs": [],
   "source": [
    "#!pip install mysql-connector-python"
   ]
  },
  {
   "cell_type": "code",
   "execution_count": 1,
   "id": "bce5ec5c",
   "metadata": {},
   "outputs": [],
   "source": [
    "import mysql.connector"
   ]
  },
  {
   "cell_type": "code",
   "execution_count": 2,
   "id": "41081bf1",
   "metadata": {},
   "outputs": [],
   "source": [
    "USER = 'root'\n",
    "PASSWORD = 'Зкгпдщ_1059863'"
   ]
  },
  {
   "cell_type": "code",
   "execution_count": 3,
   "id": "2efcb060",
   "metadata": {},
   "outputs": [
    {
     "name": "stdout",
     "output_type": "stream",
     "text": [
      "<mysql.connector.connection_cext.CMySQLConnection object at 0x000001E24377B8E0>\n"
     ]
    }
   ],
   "source": [
    "# from getpass import getpass\n",
    "from mysql.connector import connect, Error\n",
    "\n",
    "try:\n",
    "    with connect(\n",
    "        host=\"localhost\",\n",
    "        user = USER,\n",
    "        password = PASSWORD,\n",
    "    ) as connection:\n",
    "        print(connection)\n",
    "except Error as e:\n",
    "    print(e)"
   ]
  },
  {
   "cell_type": "markdown",
   "id": "8aa0c264",
   "metadata": {},
   "source": [
    "# Виконаємо запит `SHOW DATABASES`, щоб побачити всі бази данних, що є на локальному MySQL сервері:"
   ]
  },
  {
   "cell_type": "code",
   "execution_count": 4,
   "id": "f77dd435",
   "metadata": {},
   "outputs": [
    {
     "name": "stdout",
     "output_type": "stream",
     "text": [
      "('information_schema',)\n",
      "('mysql',)\n",
      "('performance_schema',)\n",
      "('sys',)\n",
      "('world',)\n"
     ]
    }
   ],
   "source": [
    "try:\n",
    "    with connect(\n",
    "        host=\"localhost\",\n",
    "        user = USER,\n",
    "        password = PASSWORD,\n",
    "    ) as connection:\n",
    "        show_db_query = \"SHOW DATABASES\"\n",
    "        with connection.cursor() as cursor:\n",
    "            cursor.execute(show_db_query)\n",
    "            for db in cursor:\n",
    "                print(db)\n",
    "except Error as e:\n",
    "    print(e)"
   ]
  },
  {
   "cell_type": "markdown",
   "id": "1ea81947",
   "metadata": {},
   "source": [
    "Наведений код виведе імена всіх баз даних, що знаходяться на сервері MySQL. Команда `SHOW DATABASES` у нашому прикладі також вивела бази даних, які автоматично створюються сервером MySQL і надають доступ до метаданих баз даних та налаштувань сервера."
   ]
  },
  {
   "cell_type": "markdown",
   "id": "05b8925b",
   "metadata": {},
   "source": [
    "# Підключення до існуючої бази даних"
   ]
  },
  {
   "cell_type": "code",
   "execution_count": 5,
   "id": "4399c220",
   "metadata": {},
   "outputs": [
    {
     "name": "stdout",
     "output_type": "stream",
     "text": [
      "<mysql.connector.connection_cext.CMySQLConnection object at 0x000001E24365A830>\n"
     ]
    }
   ],
   "source": [
    "try:\n",
    "    with connect(\n",
    "        host=\"localhost\",\n",
    "        user = USER,\n",
    "        password = PASSWORD,\n",
    "        database=\"information_schema\",\n",
    "    ) as connection:\n",
    "        print(connection)\n",
    "except Error as e:\n",
    "    print(e)"
   ]
  },
  {
   "cell_type": "markdown",
   "id": "d596563f",
   "metadata": {},
   "source": [
    "# Завантажемо сторонню базу даних\n",
    "\n",
    "C:\\Users\\GbreH>mysql --user=USER --password=PASSWORD < \"C:\\\\Users\\\\GbreH\\\\Desktop\\\\sample-mysql-db-master\\\\sample-mysql-db-master\\\\world\\\\world.sql\"\n",
    "\n",
    "mysql: [Warning] Using a password on the command line interface can be insecure.\n",
    "\n",
    "\n",
    "<!-- mysql.exe --defaults-file=\"C:\\Users\\GbreH\\AppData\\Local\\Temp\\tmp4_c6vo_6.cnf\"  --protocol=tcp --host=localhost --user=root --port=3306 --default-character-set=utf8 --comments --database=world  < \"C:\\\\Users\\\\GbreH\\\\Desktop\\\\sample-mysql-db-master\\\\sample-mysql-db-master\\\\world\\\\world.sql\" -->\n",
    "\n",
    "[Отримати список таблиць у користувацьких базах даних в SQL Server](https://ru.stackoverflow.com/questions/19340/%D0%9F%D0%BE%D0%BB%D1%83%D1%87%D0%B8%D1%82%D1%8C-%D1%81%D0%BF%D0%B8%D1%81%D0%BE%D0%BA-%D1%82%D0%B0%D0%B1%D0%BB%D0%B8%D1%86-%D0%B2-%D0%BF%D0%BE%D0%BB%D1%8C%D0%B7%D0%BE%D0%B2%D0%B0%D1%82%D0%B5%D0%BB%D1%8C%D1%81%D0%BA%D0%B8%D1%85-%D0%91%D0%94-%D0%B2-sql-server)\n",
    "\n",
    "[some link](https://stackoverflow.com/questions/64610085/why-am-i-getting-unhandled-exception-local-variable-pwd-referenced-before-as)\n",
    "\n",
    "[Як експортувати та імпортувати базу даних у MySQL Workbench](https://youtu.be/Rka9SUx6bl0)"
   ]
  },
  {
   "cell_type": "code",
   "execution_count": 6,
   "id": "324f320b",
   "metadata": {},
   "outputs": [
    {
     "name": "stdout",
     "output_type": "stream",
     "text": [
      "('city',)\n",
      "('country',)\n",
      "('country_language',)\n"
     ]
    }
   ],
   "source": [
    "try:\n",
    "    with connect(\n",
    "        host=\"localhost\",\n",
    "        user = USER,\n",
    "        password = PASSWORD,\n",
    "        database=\"world\",\n",
    "    ) as connection:\n",
    "        show_tb_query = \"SHOW TABLES\"\n",
    "        with connection.cursor() as cursor:\n",
    "            cursor.execute(show_tb_query)\n",
    "            for db in cursor:\n",
    "                print(db)\n",
    "except Error as e:\n",
    "    print(e)"
   ]
  },
  {
   "cell_type": "code",
   "execution_count": 68,
   "id": "cd3ff359",
   "metadata": {},
   "outputs": [],
   "source": [
    "def query(query_text):\n",
    "    try:\n",
    "        with connect(\n",
    "            host=\"localhost\",\n",
    "            user = USER,\n",
    "            password = PASSWORD,\n",
    "            database=\"world\",\n",
    "        ) as connection:\n",
    "            with connection.cursor() as cursor:\n",
    "                cursor.execute(query_text)\n",
    "                for db in cursor:\n",
    "                    print(db)\n",
    "    except Error as e:\n",
    "        print(e)"
   ]
  },
  {
   "cell_type": "code",
   "execution_count": 12,
   "id": "a48ae9cd",
   "metadata": {},
   "outputs": [
    {
     "name": "stdout",
     "output_type": "stream",
     "text": [
      "(1, 'Kabul', 'AFG', 'Kabol', 1780000)\n",
      "(2, 'Qandahar', 'AFG', 'Qandahar', 237500)\n",
      "(3, 'Herat', 'AFG', 'Herat', 186800)\n",
      "(4, 'Mazar-e-Sharif', 'AFG', 'Balkh', 127800)\n",
      "(5, 'Amsterdam', 'NLD', 'Noord-Holland', 731200)\n",
      "(6, 'Rotterdam', 'NLD', 'Zuid-Holland', 593321)\n",
      "(7, 'Haag', 'NLD', 'Zuid-Holland', 440900)\n",
      "(8, 'Utrecht', 'NLD', 'Utrecht', 234323)\n",
      "(9, 'Eindhoven', 'NLD', 'Noord-Brabant', 201843)\n",
      "(10, 'Tilburg', 'NLD', 'Noord-Brabant', 193238)\n"
     ]
    }
   ],
   "source": [
    "query(\"SELECT * FROM city LIMIT 10\") # LIMIT вказує на кількість виведених рядків"
   ]
  },
  {
   "cell_type": "code",
   "execution_count": 13,
   "id": "7224008a",
   "metadata": {},
   "outputs": [
    {
     "name": "stdout",
     "output_type": "stream",
     "text": [
      "('id', b'int', 'NO', 'PRI', None, 'auto_increment')\n",
      "('name', b'char(35)', 'NO', '', b'', '')\n",
      "('country_code', b'char(3)', 'NO', 'MUL', b'', '')\n",
      "('district', b'char(20)', 'NO', '', b'', '')\n",
      "('population', b'int', 'NO', '', b'0', '')\n"
     ]
    }
   ],
   "source": [
    "query('SHOW COLUMNS FROM world.city;') # Подивитись на колонки що є в таблиці"
   ]
  },
  {
   "cell_type": "code",
   "execution_count": 41,
   "id": "fb5250c4",
   "metadata": {},
   "outputs": [
    {
     "name": "stdout",
     "output_type": "stream",
     "text": [
      "('id', b'int', 'NO', 'PRI', None, 'auto_increment')\n",
      "('name', b'char(35)', 'NO', '', b'', '')\n",
      "('country_code', b'char(3)', 'NO', 'MUL', b'', '')\n",
      "('district', b'char(20)', 'NO', '', b'', '')\n",
      "('population', b'int', 'NO', '', b'0', '')\n"
     ]
    }
   ],
   "source": [
    "query('SHOW COLUMNS FROM city;')"
   ]
  },
  {
   "cell_type": "code",
   "execution_count": 21,
   "id": "b813468e",
   "metadata": {},
   "outputs": [
    {
     "name": "stdout",
     "output_type": "stream",
     "text": [
      "(3998,)\n",
      "(4079,)\n"
     ]
    }
   ],
   "source": [
    "column = 'name'\n",
    "unique_val_name = f\"\"\"SELECT COUNT(DISTINCT {column})\n",
    "FROM city;\"\"\"\n",
    "query(unique_val_name)\n",
    "all_count_name = f\"\"\"\n",
    "SELECT COUNT({column})\n",
    "FROM city;\"\"\"\n",
    "query(all_count_name)"
   ]
  },
  {
   "cell_type": "code",
   "execution_count": 22,
   "id": "14aa533e",
   "metadata": {},
   "outputs": [
    {
     "name": "stdout",
     "output_type": "stream",
     "text": [
      "(232,)\n",
      "(4079,)\n"
     ]
    }
   ],
   "source": [
    "column = 'country_code'\n",
    "unique_val_name = f\"\"\"SELECT COUNT(DISTINCT {column})\n",
    "FROM city;\"\"\"\n",
    "query(unique_val_name)\n",
    "all_count_name = f\"\"\"\n",
    "SELECT COUNT({column})\n",
    "FROM city;\"\"\"\n",
    "query(all_count_name)"
   ]
  },
  {
   "cell_type": "code",
   "execution_count": 23,
   "id": "d68d4dc3",
   "metadata": {},
   "outputs": [
    {
     "name": "stdout",
     "output_type": "stream",
     "text": [
      "(1367,)\n",
      "(4079,)\n"
     ]
    }
   ],
   "source": [
    "column = 'district'\n",
    "unique_val_name = f\"\"\"SELECT COUNT(DISTINCT {column})\n",
    "FROM city;\"\"\"\n",
    "query(unique_val_name)\n",
    "all_count_name = f\"\"\"\n",
    "SELECT COUNT({column})\n",
    "FROM city;\"\"\"\n",
    "query(all_count_name)"
   ]
  },
  {
   "cell_type": "code",
   "execution_count": 24,
   "id": "37a3ec2b",
   "metadata": {},
   "outputs": [
    {
     "name": "stdout",
     "output_type": "stream",
     "text": [
      "(3897,)\n",
      "(4079,)\n"
     ]
    }
   ],
   "source": [
    "column = 'population'\n",
    "unique_val_name = f\"\"\"SELECT COUNT(DISTINCT {column})\n",
    "FROM city;\"\"\"\n",
    "query(unique_val_name)\n",
    "all_count_name = f\"\"\"\n",
    "SELECT COUNT({column})\n",
    "FROM city;\"\"\"\n",
    "query(all_count_name)"
   ]
  },
  {
   "cell_type": "code",
   "execution_count": 58,
   "id": "1deac934",
   "metadata": {},
   "outputs": [
    {
     "ename": "TypeError",
     "evalue": "'str' object is not callable",
     "output_type": "error",
     "traceback": [
      "\u001b[1;31m---------------------------------------------------------------------------\u001b[0m",
      "\u001b[1;31mTypeError\u001b[0m                                 Traceback (most recent call last)",
      "Input \u001b[1;32mIn [58]\u001b[0m, in \u001b[0;36m<cell line: 6>\u001b[1;34m()\u001b[0m\n\u001b[0;32m      1\u001b[0m q \u001b[38;5;241m=\u001b[39m \u001b[38;5;124m\"\"\"\u001b[39m\u001b[38;5;124mselect name, district, count(district)\u001b[39m\n\u001b[0;32m      2\u001b[0m \u001b[38;5;124mfrom city\u001b[39m\n\u001b[0;32m      3\u001b[0m \u001b[38;5;124mgroup by population;\u001b[39m\n\u001b[0;32m      4\u001b[0m \u001b[38;5;124mhaving count(population) > 20;\u001b[39m\n\u001b[0;32m      5\u001b[0m \u001b[38;5;124m\"\"\"\u001b[39m\u001b[38;5;66;03m# having count(population) > 20;\u001b[39;00m\n\u001b[1;32m----> 6\u001b[0m \u001b[43mquery\u001b[49m\u001b[43m(\u001b[49m\u001b[43mq\u001b[49m\u001b[43m)\u001b[49m\n",
      "\u001b[1;31mTypeError\u001b[0m: 'str' object is not callable"
     ]
    }
   ],
   "source": [
    "q = \"\"\"select name, district, count(district)\n",
    "from city\n",
    "group by population;\n",
    "having count(population) > 20;\n",
    "\"\"\"# having count(population) > 20;\n",
    "query(q)"
   ]
  },
  {
   "cell_type": "code",
   "execution_count": 65,
   "id": "e5699a4d",
   "metadata": {},
   "outputs": [
    {
     "name": "stderr",
     "output_type": "stream",
     "text": [
      "C:\\Users\\GbreH\\Desktop\\jupyter\\lib\\site-packages\\pandas\\io\\sql.py:761: UserWarning: pandas only support SQLAlchemy connectable(engine/connection) ordatabase string URI or sqlite3 DBAPI2 connectionother DBAPI2 objects are not tested, please consider using SQLAlchemy\n",
      "  warnings.warn(\n"
     ]
    }
   ],
   "source": [
    "# Importing data from a MySQL database into Pandas data frame\n",
    "import pandas as pd\n",
    "try:\n",
    "    mydb = connect(host=\"localhost\", database = 'world',user=USER, passwd=PASSWORD,use_pure=True)\n",
    "    query = \"Select * from city;\"\n",
    "    result_dataFrame = pd.read_sql(query,mydb)\n",
    "    mydb.close() #close the connection\n",
    "except Exception as e:\n",
    "    mydb.close()\n",
    "    print(str(e))"
   ]
  },
  {
   "cell_type": "code",
   "execution_count": 66,
   "id": "9d7d245e",
   "metadata": {},
   "outputs": [
    {
     "data": {
      "text/html": [
       "<div>\n",
       "<style scoped>\n",
       "    .dataframe tbody tr th:only-of-type {\n",
       "        vertical-align: middle;\n",
       "    }\n",
       "\n",
       "    .dataframe tbody tr th {\n",
       "        vertical-align: top;\n",
       "    }\n",
       "\n",
       "    .dataframe thead th {\n",
       "        text-align: right;\n",
       "    }\n",
       "</style>\n",
       "<table border=\"1\" class=\"dataframe\">\n",
       "  <thead>\n",
       "    <tr style=\"text-align: right;\">\n",
       "      <th></th>\n",
       "      <th>id</th>\n",
       "      <th>name</th>\n",
       "      <th>country_code</th>\n",
       "      <th>district</th>\n",
       "      <th>population</th>\n",
       "    </tr>\n",
       "  </thead>\n",
       "  <tbody>\n",
       "    <tr>\n",
       "      <th>0</th>\n",
       "      <td>1</td>\n",
       "      <td>Kabul</td>\n",
       "      <td>AFG</td>\n",
       "      <td>Kabol</td>\n",
       "      <td>1780000</td>\n",
       "    </tr>\n",
       "    <tr>\n",
       "      <th>1</th>\n",
       "      <td>2</td>\n",
       "      <td>Qandahar</td>\n",
       "      <td>AFG</td>\n",
       "      <td>Qandahar</td>\n",
       "      <td>237500</td>\n",
       "    </tr>\n",
       "    <tr>\n",
       "      <th>2</th>\n",
       "      <td>3</td>\n",
       "      <td>Herat</td>\n",
       "      <td>AFG</td>\n",
       "      <td>Herat</td>\n",
       "      <td>186800</td>\n",
       "    </tr>\n",
       "    <tr>\n",
       "      <th>3</th>\n",
       "      <td>4</td>\n",
       "      <td>Mazar-e-Sharif</td>\n",
       "      <td>AFG</td>\n",
       "      <td>Balkh</td>\n",
       "      <td>127800</td>\n",
       "    </tr>\n",
       "    <tr>\n",
       "      <th>4</th>\n",
       "      <td>5</td>\n",
       "      <td>Amsterdam</td>\n",
       "      <td>NLD</td>\n",
       "      <td>Noord-Holland</td>\n",
       "      <td>731200</td>\n",
       "    </tr>\n",
       "    <tr>\n",
       "      <th>...</th>\n",
       "      <td>...</td>\n",
       "      <td>...</td>\n",
       "      <td>...</td>\n",
       "      <td>...</td>\n",
       "      <td>...</td>\n",
       "    </tr>\n",
       "    <tr>\n",
       "      <th>4074</th>\n",
       "      <td>4075</td>\n",
       "      <td>Khan Yunis</td>\n",
       "      <td>PSE</td>\n",
       "      <td>Khan Yunis</td>\n",
       "      <td>123175</td>\n",
       "    </tr>\n",
       "    <tr>\n",
       "      <th>4075</th>\n",
       "      <td>4076</td>\n",
       "      <td>Hebron</td>\n",
       "      <td>PSE</td>\n",
       "      <td>Hebron</td>\n",
       "      <td>119401</td>\n",
       "    </tr>\n",
       "    <tr>\n",
       "      <th>4076</th>\n",
       "      <td>4077</td>\n",
       "      <td>Jabaliya</td>\n",
       "      <td>PSE</td>\n",
       "      <td>North Gaza</td>\n",
       "      <td>113901</td>\n",
       "    </tr>\n",
       "    <tr>\n",
       "      <th>4077</th>\n",
       "      <td>4078</td>\n",
       "      <td>Nablus</td>\n",
       "      <td>PSE</td>\n",
       "      <td>Nablus</td>\n",
       "      <td>100231</td>\n",
       "    </tr>\n",
       "    <tr>\n",
       "      <th>4078</th>\n",
       "      <td>4079</td>\n",
       "      <td>Rafah</td>\n",
       "      <td>PSE</td>\n",
       "      <td>Rafah</td>\n",
       "      <td>92020</td>\n",
       "    </tr>\n",
       "  </tbody>\n",
       "</table>\n",
       "<p>4079 rows × 5 columns</p>\n",
       "</div>"
      ],
      "text/plain": [
       "        id            name country_code       district  population\n",
       "0        1           Kabul          AFG          Kabol     1780000\n",
       "1        2        Qandahar          AFG       Qandahar      237500\n",
       "2        3           Herat          AFG          Herat      186800\n",
       "3        4  Mazar-e-Sharif          AFG          Balkh      127800\n",
       "4        5       Amsterdam          NLD  Noord-Holland      731200\n",
       "...    ...             ...          ...            ...         ...\n",
       "4074  4075      Khan Yunis          PSE     Khan Yunis      123175\n",
       "4075  4076          Hebron          PSE         Hebron      119401\n",
       "4076  4077        Jabaliya          PSE     North Gaza      113901\n",
       "4077  4078          Nablus          PSE         Nablus      100231\n",
       "4078  4079           Rafah          PSE          Rafah       92020\n",
       "\n",
       "[4079 rows x 5 columns]"
      ]
     },
     "execution_count": 66,
     "metadata": {},
     "output_type": "execute_result"
    }
   ],
   "source": [
    "result_dataFrame"
   ]
  },
  {
   "cell_type": "code",
   "execution_count": 67,
   "id": "5ab34da8",
   "metadata": {},
   "outputs": [
    {
     "data": {
      "text/plain": [
       "232"
      ]
     },
     "execution_count": 67,
     "metadata": {},
     "output_type": "execute_result"
    }
   ],
   "source": [
    "df = result_dataFrame\n",
    "df.country_code.nunique()"
   ]
  },
  {
   "cell_type": "code",
   "execution_count": 69,
   "id": "7a85781e",
   "metadata": {},
   "outputs": [
    {
     "name": "stdout",
     "output_type": "stream",
     "text": [
      "(232,)\n"
     ]
    }
   ],
   "source": [
    "q = \"\"\"Select COUNT(DISTINCT country_code) from city LIMIT 100;\"\"\"\n",
    "query(q) # COUNT(DISTINCT country_code)"
   ]
  },
  {
   "cell_type": "code",
   "execution_count": 76,
   "id": "d2619520",
   "metadata": {},
   "outputs": [
    {
     "name": "stdout",
     "output_type": "stream",
     "text": [
      "1064 (42000): You have an error in your SQL syntax; check the manual that corresponds to your MySQL server version for the right syntax to use near 'DISTINCT(country_code) from city\n",
      "GROUP BY country_code\n",
      "having country_code' at line 1\n"
     ]
    }
   ],
   "source": [
    "q = \"\"\"Select name DISTINCT(country_code) from city\n",
    "GROUP BY country_code\n",
    "having country_code\"\"\"\n",
    "query(q) # COUNT(DISTINCT country_code)"
   ]
  },
  {
   "cell_type": "code",
   "execution_count": null,
   "id": "36e67b67",
   "metadata": {},
   "outputs": [],
   "source": []
  }
 ],
 "metadata": {
  "kernelspec": {
   "display_name": "Python 3 (ipykernel)",
   "language": "python",
   "name": "python3"
  },
  "language_info": {
   "codemirror_mode": {
    "name": "ipython",
    "version": 3
   },
   "file_extension": ".py",
   "mimetype": "text/x-python",
   "name": "python",
   "nbconvert_exporter": "python",
   "pygments_lexer": "ipython3",
   "version": "3.10.5"
  }
 },
 "nbformat": 4,
 "nbformat_minor": 5
}
